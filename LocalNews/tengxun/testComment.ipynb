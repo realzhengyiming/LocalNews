{
 "cells": [
  {
   "cell_type": "code",
   "execution_count": 43,
   "metadata": {
    "collapsed": true
   },
   "outputs": [],
   "source": [
    "#这个是找出文章的cmt_id 的，之后再用这个来把文章的评论搞出来\n",
    "import re\n",
    "import requests\n",
    "from bs4 import  BeautifulSoup"
   ]
  },
  {
   "cell_type": "code",
   "execution_count": 42,
   "metadata": {
    "collapsed": false
   },
   "outputs": [
    {
     "name": "stdout",
     "output_type": "stream",
     "text": [
      "\n                                            document.domain = 'qq.com';\n                                            cmt_site = 'news';\n                                            cmt_id = 2326922651;\n                                            cmt_is_group = 0;\n                                            cmt_count_id = 'comment_count|comment_count2';\n                                        \n"
     ]
    }
   ],
   "source": [
    "url = \"https://news.qq.com/a/20171230/000285.htm\"   #这个是新闻链接的页面\n",
    "response = requests.get(url)\n",
    "html = response.content\n",
    "\n",
    "\n",
    "BS = BeautifulSoup(html)\n",
    "from pprint import pprint\n",
    "# pprint(BS)\n",
    "for i in BS.find_all(\"script\"):    #这儿那么多可以换成正则表达式来找出这一大长串的数字。\n",
    "    if i.text.find(\"cmt_id\")!=-1:\n",
    "        print(i.text)   #都是数字的话，那就把连续的数字都提取出来好了。\n",
    "        print(re.find(\"\",i.text))\n",
    "        # for object in i.text.split(\";\"):\n",
    "        #     if object.find(\"cmt_id\")!=-1:\n",
    "        #         cmt_id = object.split(\"=\")[1]   #这样会不会很危险呢。。。直接运行js代码。\n",
    "        #         print(cmt_id)\n",
    "                # print(object)"
   ]
  },
  {
   "cell_type": "code",
   "execution_count": 40,
   "metadata": {},
   "outputs": [
    {
     "name": "stdout",
     "output_type": "stream",
     "text": [
      "<html>\n<head><title>501 Not Implemented</title></head>\n<body bgcolor=\"white\">\n<center><h1>501 Not Implemented</h1></center>\n<hr/><center>nginx</center>\n</body>\n</html>\n\n"
     ]
    }
   ],
   "source": [
    "commentRawUrl = \"http://coral.qq.com/\"   # id附在上面就可以读取出来的了。\n",
    "cmt_id = 2326922651\n",
    "response = requests.get(commentRawUrl+str(cmt_id))\n",
    "html = response.content\n",
    "BS = BeautifulSoup(html)\n",
    "pprint(BS)"
   ]
  },
  {
   "cell_type": "code",
   "execution_count": 44,
   "metadata": {},
   "outputs": [],
   "source": [
    "# 切换到testComment中去提取，就不会给识别成机器了。"
   ]
  },
  {
   "cell_type": "code",
   "execution_count": null,
   "metadata": {},
   "outputs": [],
   "source": []
  }
 ],
 "metadata": {
  "kernelspec": {
   "display_name": "Python 2",
   "language": "python",
   "name": "python2"
  },
  "language_info": {
   "codemirror_mode": {
    "name": "ipython",
    "version": 2
   },
   "file_extension": ".py",
   "mimetype": "text/x-python",
   "name": "python",
   "nbconvert_exporter": "python",
   "pygments_lexer": "ipython2",
   "version": "2.7.6"
  }
 },
 "nbformat": 4,
 "nbformat_minor": 0
}
